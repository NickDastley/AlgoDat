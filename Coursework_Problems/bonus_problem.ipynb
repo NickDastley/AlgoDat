{
 "cells": [
  {
   "cell_type": "markdown",
   "id": "a35eeb9f-df70-4ab1-a243-2d2025888eb0",
   "metadata": {},
   "source": [
    "# Example Bonus Problem 12.6"
   ]
  },
  {
   "cell_type": "markdown",
   "id": "ed74e8ab-f2a0-4120-9b4a-9a3998d5e64f",
   "metadata": {},
   "source": [
    "## Training Data as code"
   ]
  },
  {
   "cell_type": "code",
   "execution_count": 16,
   "id": "1ba06a61-0e07-451b-8140-2f120f9945cb",
   "metadata": {
    "ExecuteTime": {
     "end_time": "2024-05-31T08:05:00.426762400Z",
     "start_time": "2024-05-31T08:05:00.418779900Z"
    }
   },
   "outputs": [],
   "source": [
    "goal_attribute = \"nico_would_eat\"\n",
    "\n",
    "attributes = {\n",
    "    \"mushrooms\", \"ham\", \"olives\", \"pineapple\"\n",
    "}\n",
    "examples = [{'mushrooms': False, 'ham': False, 'olives': False, 'pineapple': False, \"nico_would_eat\": True, },\n",
    "            {'mushrooms': False, 'ham': False, 'olives': False, 'pineapple': True, \"nico_would_eat\": False, },\n",
    "            {'mushrooms': False, 'ham': False, 'olives': True, 'pineapple': False, \"nico_would_eat\": False, },\n",
    "            {'mushrooms': False, 'ham': False, 'olives': True, 'pineapple': True, \"nico_would_eat\": False, },\n",
    "            {'mushrooms': False, 'ham': True, 'olives': False, 'pineapple': False, \"nico_would_eat\": True, },\n",
    "            {'mushrooms': False, 'ham': True, 'olives': False, 'pineapple': True, \"nico_would_eat\": True, },\n",
    "            {'mushrooms': False, 'ham': True, 'olives': True, 'pineapple': False, \"nico_would_eat\": True, },\n",
    "            {'mushrooms': False, 'ham': True, 'olives': True, 'pineapple': True, \"nico_would_eat\": True, },\n",
    "            {'mushrooms': True, 'ham': False, 'olives': False, 'pineapple': False, \"nico_would_eat\": False, },\n",
    "            {'mushrooms': True, 'ham': False, 'olives': False, 'pineapple': True, \"nico_would_eat\": False, },\n",
    "            {'mushrooms': True, 'ham': False, 'olives': True, 'pineapple': False, \"nico_would_eat\": False, },\n",
    "            {'mushrooms': True, 'ham': False, 'olives': True, 'pineapple': True, \"nico_would_eat\": False, },\n",
    "            {'mushrooms': True, 'ham': True, 'olives': False, 'pineapple': False, \"nico_would_eat\": True, },\n",
    "            {'mushrooms': True, 'ham': True, 'olives': False, 'pineapple': True, \"nico_would_eat\": False, },\n",
    "            {'mushrooms': True, 'ham': True, 'olives': True, 'pineapple': False, \"nico_would_eat\": True, },\n",
    "            {'mushrooms': True, 'ham': True, 'olives': True, 'pineapple': True, \"nico_would_eat\": False, }]"
   ]
  },
  {
   "cell_type": "markdown",
   "id": "4f80b278-940a-4551-be1b-1fc14f9662be",
   "metadata": {},
   "source": [
    "## Implementation"
   ]
  },
  {
   "cell_type": "code",
   "execution_count": 24,
   "id": "fe55883a-6887-43dd-9498-5333a51799e2",
   "metadata": {
    "ExecuteTime": {
     "end_time": "2024-05-31T08:32:32.387618800Z",
     "start_time": "2024-05-31T08:32:32.339488800Z"
    }
   },
   "outputs": [],
   "source": [
    "import math\n",
    "\n",
    "def plurality_val(examples):\n",
    "    count_True = 0\n",
    "    count_False = 0\n",
    "    for example in examples:\n",
    "        if example[goal_attribute]:\n",
    "            count_True += 1\n",
    "        else:\n",
    "            count_False += 1\n",
    "    return count_True > count_False\n",
    "\n",
    "\n",
    "def all_examples_same_classification(examples):\n",
    "    first_classification = examples[0][goal_attribute]\n",
    "    for i in range(1, len(examples)):\n",
    "        if examples[i][goal_attribute] != first_classification:\n",
    "            return False\n",
    "    return True\n",
    "\n",
    "\n",
    "# Returns the attribute with the highest information gain\n",
    "def binary_entropy_for_attribute(attribute, examples):\n",
    "    True_probability = len([example for example in examples if example[attribute]]) / len(examples)\n",
    "    return binary_entropy(True_probability)\n",
    "\n",
    "\n",
    "def binary_entropy(probability_k):\n",
    "    if probability_k == 0 or probability_k == 1:\n",
    "        return 0\n",
    "    return - (probability_k * math.log2(probability_k) + (1 - probability_k) * math.log2(1 - probability_k))\n",
    "\n",
    "\n",
    "def remainder(attribute, examples):\n",
    "    option_1_examples = [example for example in examples if example[attribute]]\n",
    "    option_1_probability = len([example for example in option_1_examples if example[goal_attribute]]) / len(examples)\n",
    "    option_2_examples = [example for example in examples if not example[attribute]]\n",
    "    option_2_probability = len([example for example in option_2_examples if example[goal_attribute]]) / len(examples)\n",
    "\n",
    "    remainder_1 = (len(option_1_examples) / len(examples)\n",
    "                   * binary_entropy(option_1_probability / len(option_1_examples)))\n",
    "\n",
    "    remainder_2 = (len(option_2_examples) / len(examples)\n",
    "                   * binary_entropy(option_2_probability / len(option_2_examples)))\n",
    "\n",
    "    return remainder_1 + remainder_2\n",
    "\n",
    "\n",
    "def information_gain(attribute, examples):\n",
    "    return binary_entropy_for_attribute(attribute, examples) - remainder(attribute, examples)\n",
    "\n",
    "\n",
    "def best_information_gaining_attribute(attributes, examples):\n",
    "    information_gains_per_attribute = {}\n",
    "    for attribute in attributes:\n",
    "        information_gains_per_attribute[attribute] = information_gain(attribute, examples)\n",
    "\n",
    "    return max(information_gains_per_attribute, key=information_gains_per_attribute.get)\n",
    "\n",
    "\n",
    "def decision_tree_learning(examples, attributes, parent_examples, last_best_attribute):\n",
    "    # ran out of examples\n",
    "    if len(examples) == 0:\n",
    "        #return plurality_val(parent_examples)\n",
    "        return Node(None, last_best_attribute + \" = \" + str(plurality_val(parent_examples)))\n",
    "\n",
    "    elif all_examples_same_classification(examples):\n",
    "        # return the classification\n",
    "        # return examples[0][goal_attribute]\n",
    "        return Node(None, last_best_attribute + \" = \" + str(examples[0][goal_attribute]))\n",
    "\n",
    "    # no attributes remaining\n",
    "    elif len(attributes) == 0:\n",
    "        #return plurality_val(examples)\n",
    "        return Node(None, last_best_attribute + \" = \" + str(plurality_val(examples)))\n",
    "    else:\n",
    "        best_attribute = best_information_gaining_attribute(attributes, examples)\n",
    "        tree = Node(best_attribute, best_attribute)\n",
    "        # go through all unique attributes in the best attribute\n",
    "        option_1_examples = []\n",
    "        option_2_examples = []\n",
    "        for example in examples:\n",
    "            if example[best_attribute]:\n",
    "                option_1_examples.append(example)\n",
    "            else:\n",
    "                option_2_examples.append(example)\n",
    "\n",
    "        subtree = decision_tree_learning(option_1_examples, attributes - {best_attribute}, examples, best_attribute)\n",
    "        if isinstance(subtree, Node):\n",
    "            subtree.label = best_attribute + \" = True\"\n",
    "        tree.add_child(subtree)\n",
    "\n",
    "        subtree = decision_tree_learning(option_2_examples, attributes - {best_attribute}, examples, best_attribute)\n",
    "        if isinstance(subtree, Node):\n",
    "            subtree.label = best_attribute + \" = False\"\n",
    "        tree.add_child(subtree)\n",
    "        return tree"
   ]
  },
  {
   "cell_type": "markdown",
   "id": "b9670d85-ef29-4dfd-b4b5-e76d279c1f1a",
   "metadata": {},
   "source": [
    "## Helper Code (Node Class)"
   ]
  },
  {
   "cell_type": "code",
   "execution_count": 27,
   "id": "0afeac66-2645-464d-a6a8-4198245657ce",
   "metadata": {
    "ExecuteTime": {
     "end_time": "2024-05-31T08:34:07.727013300Z",
     "start_time": "2024-05-31T08:34:07.686190300Z"
    }
   },
   "outputs": [],
   "source": [
    "# Node for a decision tree\n",
    "class Node:\n",
    "\n",
    "    def __init__(self, attribute, label):\n",
    "        self.attribute = attribute\n",
    "        self.label = label\n",
    "        self.left = None\n",
    "        self.right = None\n",
    "\n",
    "    def add_child(self, node):\n",
    "        if self.left is None:\n",
    "            self.left = node\n",
    "        else:\n",
    "            self.right = node\n",
    "\n",
    "    def print_illustration(self, indent=\"\"):\n",
    "        print(indent + self.label)\n",
    "        if self.attribute is not None:\n",
    "            if isinstance(self.left, Node):\n",
    "                self.left.print_illustration(indent + \"├── \")\n",
    "            else:\n",
    "                print(indent + \"├── \" + str(self.left))\n",
    "            if isinstance(self.right, Node):\n",
    "                self.right.print_illustration(indent + \"└── \")\n",
    "            else:\n",
    "                print(indent + \"└── \" + str(self.right))"
   ]
  },
  {
   "cell_type": "markdown",
   "id": "14d1b6f3-2ce1-4e3f-92b1-02e30ab67e55",
   "metadata": {},
   "source": [
    "## Execute decision tree learning"
   ]
  },
  {
   "cell_type": "code",
   "execution_count": 28,
   "id": "1779b194-2464-4d63-8e7a-4922dad77350",
   "metadata": {
    "ExecuteTime": {
     "end_time": "2024-05-31T08:34:09.515586600Z",
     "start_time": "2024-05-31T08:34:09.503897Z"
    }
   },
   "outputs": [
    {
     "name": "stdout",
     "output_type": "stream",
     "text": [
      "ham\n",
      "├── ham = True\n",
      "├── ├── mushrooms = True\n",
      "├── ├── ├── pineapple = True\n",
      "├── ├── └── pineapple = False\n",
      "├── └── mushrooms = False\n",
      "└── ham = False\n",
      "└── ├── olives = True\n",
      "└── └── olives = False\n",
      "└── └── ├── mushrooms = True\n",
      "└── └── └── mushrooms = False\n",
      "└── └── └── ├── pineapple = True\n",
      "└── └── └── └── pineapple = False\n"
     ]
    }
   ],
   "source": [
    "tree = decision_tree_learning(examples, attributes, examples, None)\n",
    "\n",
    "tree.print_illustration()"
   ]
  },
  {
   "cell_type": "code",
   "execution_count": null,
   "id": "d0d5d7bb-7231-4b5e-a7f6-c3f30e73db93",
   "metadata": {},
   "outputs": [],
   "source": []
  },
  {
   "cell_type": "code",
   "execution_count": null,
   "id": "88d21f7e-a6a9-4376-a525-bc2463888af9",
   "metadata": {},
   "outputs": [],
   "source": []
  }
 ],
 "metadata": {
  "kernelspec": {
   "display_name": "Python 3 (ipykernel)",
   "language": "python",
   "name": "python3"
  },
  "language_info": {
   "codemirror_mode": {
    "name": "ipython",
    "version": 3
   },
   "file_extension": ".py",
   "mimetype": "text/x-python",
   "name": "python",
   "nbconvert_exporter": "python",
   "pygments_lexer": "ipython3",
   "version": "3.12.0"
  }
 },
 "nbformat": 4,
 "nbformat_minor": 5
}
